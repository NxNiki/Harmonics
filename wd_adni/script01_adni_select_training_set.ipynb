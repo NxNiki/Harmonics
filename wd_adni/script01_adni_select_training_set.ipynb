{
 "cells": [
  {
   "cell_type": "code",
   "execution_count": 13,
   "id": "2a351569-ab61-46a0-b437-ba53ba060824",
   "metadata": {},
   "outputs": [],
   "source": [
    "## 1. select later files of longitudial data as training set for harmonic wavelet computation.\n",
    "## 2. put the remaining files as the test set, where spectrum (inner product of time_signal and wavelet) is calculated.\n",
    "\n",
    "import glob\n",
    "import re\n",
    "import csv\n",
    "import os\n",
    "\n",
    "# use corr matrix to select subjects as some of subject may have nan values in corr matrix and omitted.\n",
    "input_dir = '/home/xin/Downloads/BrainImaging_UNC/out05_adni_corr_matrix*/' \n",
    "input_dir2 = '/home/xin/Downloads/BrainImaging_UNC/out04_adni_roi_signals*/'\n",
    "output_dir = 'adni_out01_time_signal_test_train_split'\n",
    "\n",
    "if not os.path.isdir(output_dir):\n",
    "    os.mkdir(output_dir)\n",
    "\n",
    "## for each subject, select the first session as test set and the last as the training set.\n",
    "all_files = glob.glob(input_dir + '*.txt')\n",
    "all_files\n",
    "\n",
    "unique_subject = set()\n",
    "for f in all_files:\n",
    "    unique_subject.add(re.search('(.*)_sub-(.*)-ses(.*).txt', f).group(2))\n",
    "\n",
    "unique_subject = list(unique_subject)\n",
    "unique_subject.sort()\n",
    "\n",
    "# for each subject, select the first session (roi signals) as the test set:\n",
    "subject_test = []\n",
    "subject_train = []\n",
    "\n",
    "for sub in unique_subject:\n",
    "    sub_file = glob.glob(input_dir + '*' + sub + '*.txt')\n",
    "    sub_file2= glob.glob(input_dir2+ '*' + sub + '*.txt')\n",
    "    subject_test.append(sub_file2[0])\n",
    "    if len(sub_file)>2:\n",
    "        # save corr matrix files to train set, we will use this to estimate harmonic wavelets with Jmatlab codes.\n",
    "        subject_train.append(sub_file[-1])\n",
    "\n"
   ]
  },
  {
   "cell_type": "code",
   "execution_count": 14,
   "id": "18366d58-8c2d-4919-a6e9-1283c6df0186",
   "metadata": {},
   "outputs": [],
   "source": [
    "with open(output_dir + '/test_set_roi_signals.csv', 'w', newline='') as myfile:\n",
    "    # wr = csv.writer(myfile, quoting=csv.QUOTE_ALL)\n",
    "    # wr.writerow(subject_test)\n",
    "    for line in subject_test:\n",
    "        myfile.write(line)\n",
    "        myfile.write('\\n')\n",
    "        \n",
    "with open(output_dir + '/train_set_corr_matrix.csv', 'w', newline='') as myfile:\n",
    "    # wr = csv.writer(myfile, quoting=csv.QUOTE_ALL)\n",
    "    # wr.writerow(subject_test)\n",
    "    for line in subject_train:\n",
    "        #print(line)\n",
    "        myfile.write(line)\n",
    "        myfile.write('\\n')"
   ]
  },
  {
   "cell_type": "code",
   "execution_count": null,
   "id": "f2be7b9c-7703-4bc6-b462-13605c47a218",
   "metadata": {},
   "outputs": [],
   "source": []
  }
 ],
 "metadata": {
  "kernelspec": {
   "display_name": "Python 3",
   "language": "python",
   "name": "python3"
  },
  "language_info": {
   "codemirror_mode": {
    "name": "ipython",
    "version": 3
   },
   "file_extension": ".py",
   "mimetype": "text/x-python",
   "name": "python",
   "nbconvert_exporter": "python",
   "pygments_lexer": "ipython3",
   "version": "3.8.12"
  }
 },
 "nbformat": 4,
 "nbformat_minor": 5
}
