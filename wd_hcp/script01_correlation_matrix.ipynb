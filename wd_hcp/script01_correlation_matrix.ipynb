{
 "cells": [
  {
   "cell_type": "code",
   "execution_count": 15,
   "id": "302f2a4e-7f44-4272-981c-851a58156bd2",
   "metadata": {},
   "outputs": [
    {
     "data": {
      "text/plain": [
       "{'2back body': 2,\n",
       " '0back face': 4,\n",
       " '15 sec rest': 5,\n",
       " '2back tools': 7,\n",
       " '0back body': 9,\n",
       " '0back place': 11,\n",
       " '2back face': 13,\n",
       " '0back tools': 15,\n",
       " '2back place': 17}"
      ]
     },
     "execution_count": 15,
     "metadata": {},
     "output_type": "execute_result"
    }
   ],
   "source": [
    "## use all time points on scan1 to construct correlation matrix.\n",
    "\n",
    "import pandas as pd\n",
    "import numpy as np\n",
    "import glob\n",
    "import os\n",
    "import seaborn as sns\n",
    "import matplotlib.pyplot as plt\n",
    "# import re\n"
   ]
  },
  {
   "cell_type": "code",
   "execution_count": 16,
   "id": "b09e90a2-0256-4ba6-97fc-c6a15db0bd20",
   "metadata": {},
   "outputs": [
    {
     "name": "stdout",
     "output_type": "stream",
     "text": [
      "960\n",
      "NaN values found in correlation matrix, skip.\n",
      "hcp_out01_corr_matrix_scan1/corr_matrix_440.csv\n"
     ]
    }
   ],
   "source": [
    "\n",
    "input_dir = '/home/xin/Downloads/HCP_Data/AROMA_fullData_July2021/Scan1'\n",
    "output_dir = 'hcp_out01_corr_matrix_scan1'\n",
    "\n",
    "\n",
    "files = glob.glob(input_dir + '/TimeSeries*.csv')\n",
    "print(len(files))\n",
    "\n",
    "if not os.path.isdir(output_dir):\n",
    "    os.mkdir(output_dir)\n",
    "\n",
    "for f in files:\n",
    "    #print(f)\n",
    "\n",
    "    roi_signals = pd.read_csv(f, sep=',', header = None).T\n",
    "    #print(roi_signals.shape)\n",
    "    \n",
    "    corr_mat = roi_signals.corr(method = 'pearson', min_periods = 100)\n",
    "    #print(corr_mat)\n",
    "    \n",
    "    file_name = f.split('/')\n",
    "    out_fname = output_dir + '/' + file_name[-1].replace('TimeSeries', 'corr_matrix_')\n",
    "    \n",
    "   # check if 0 columns or NA values exists:\n",
    "    if corr_mat.isna().any().any():\n",
    "        print('NaN values found in correlation matrix, skip.')\n",
    "        print(out_fname)\n",
    "        continue\n",
    "\n",
    "    corr_mat.to_csv(out_fname, index = False, columns = None)\n",
    "    \n",
    "    fig, ax = plt.subplots()\n",
    "    ax = sns.heatmap(corr_mat)\n",
    "    fig_name = out_fname.replace('.csv', '.png')\n",
    "    plt.savefig(fig_name)\n",
    "    plt.close('all')\n",
    "\n",
    "    \n",
    "    \n"
   ]
  },
  {
   "cell_type": "code",
   "execution_count": null,
   "id": "42460dc2-8979-4211-bd3e-18d9eb699e34",
   "metadata": {},
   "outputs": [],
   "source": []
  }
 ],
 "metadata": {
  "kernelspec": {
   "display_name": "Python 3",
   "language": "python",
   "name": "python3"
  },
  "language_info": {
   "codemirror_mode": {
    "name": "ipython",
    "version": 3
   },
   "file_extension": ".py",
   "mimetype": "text/x-python",
   "name": "python",
   "nbconvert_exporter": "python",
   "pygments_lexer": "ipython3",
   "version": "3.8.12"
  }
 },
 "nbformat": 4,
 "nbformat_minor": 5
}
