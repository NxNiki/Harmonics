{
 "cells": [
  {
   "cell_type": "code",
   "execution_count": 17,
   "id": "faf1c8d5-844b-4164-8be3-7c78dff92d93",
   "metadata": {},
   "outputs": [],
   "source": [
    "## compare the prediction accuracy of lasso/or other machine learning results.\n",
    "\n",
    "import pandas as pd\n",
    "import os\n",
    "import re\n",
    "import numpy as np\n",
    "import glob\n",
    "from scipy import stats\n",
    "import seaborn as sns\n",
    "import matplotlib.pyplot as plt\n",
    "import statsmodels.formula.api as smf\n",
    "\n",
    "input_dir1 = 'adni_out05_lasso/'\n",
    "input_dir2 = 'adni_out05_lasso_network_metrics/'\n",
    "\n",
    "output_dir = 'adni_out06_compare_lasso_results/'\n",
    "\n",
    "if not os.path.exists(output_dir):\n",
    "    os.mkdir(output_dir)\n"
   ]
  },
  {
   "cell_type": "code",
   "execution_count": 23,
   "id": "9373795f-9a95-463e-b186-c542b9ea23c1",
   "metadata": {},
   "outputs": [
    {
     "name": "stderr",
     "output_type": "stream",
     "text": [
      "/home/xin/miniconda3/lib/python3.8/site-packages/statsmodels/regression/mixed_linear_model.py:2237: ConvergenceWarning: The MLE may be on the boundary of the parameter space.\n",
      "  warnings.warn(msg, ConvergenceWarning)\n",
      "/home/xin/miniconda3/lib/python3.8/site-packages/statsmodels/regression/mixed_linear_model.py:2237: ConvergenceWarning: The MLE may be on the boundary of the parameter space.\n",
      "  warnings.warn(msg, ConvergenceWarning)\n",
      "/home/xin/miniconda3/lib/python3.8/site-packages/statsmodels/regression/mixed_linear_model.py:1634: UserWarning: Random effects covariance is singular\n",
      "  warnings.warn(msg)\n",
      "/home/xin/miniconda3/lib/python3.8/site-packages/statsmodels/regression/mixed_linear_model.py:2237: ConvergenceWarning: The MLE may be on the boundary of the parameter space.\n",
      "  warnings.warn(msg, ConvergenceWarning)\n"
     ]
    },
    {
     "data": {
      "text/html": [
       "<table class=\"simpletable\">\n",
       "<tr>\n",
       "       <td>Model:</td>       <td>MixedLM</td> <td>Dependent Variable:</td> <td>accuracy</td>\n",
       "</tr>\n",
       "<tr>\n",
       "  <td>No. Observations:</td>   <td>75</td>          <td>Method:</td>         <td>REML</td>  \n",
       "</tr>\n",
       "<tr>\n",
       "     <td>No. Groups:</td>      <td>15</td>          <td>Scale:</td>         <td>0.0039</td> \n",
       "</tr>\n",
       "<tr>\n",
       "  <td>Min. group size:</td>     <td>5</td>      <td>Log-Likelihood:</td>    <td>95.7718</td>\n",
       "</tr>\n",
       "<tr>\n",
       "  <td>Max. group size:</td>     <td>5</td>        <td>Converged:</td>         <td>Yes</td>  \n",
       "</tr>\n",
       "<tr>\n",
       "  <td>Mean group size:</td>    <td>5.0</td>            <td></td>               <td></td>    \n",
       "</tr>\n",
       "</table>\n",
       "<table class=\"simpletable\">\n",
       "<tr>\n",
       "          <td></td>          <th>Coef.</th> <th>Std.Err.</th>    <th>z</th>   <th>P>|z|</th> <th>[0.025</th> <th>0.975]</th>\n",
       "</tr>\n",
       "<tr>\n",
       "  <th>Intercept</th>         <td>0.732</td>   <td>0.009</td>  <td>83.357</td> <td>0.000</td>  <td>0.714</td>  <td>0.749</td>\n",
       "</tr>\n",
       "<tr>\n",
       "  <th>group[T.network]</th> <td>-0.045</td>   <td>0.015</td>  <td>-2.970</td> <td>0.003</td> <td>-0.075</td> <td>-0.015</td>\n",
       "</tr>\n",
       "<tr>\n",
       "  <th>Group Var</th>         <td>0.000</td>   <td>0.006</td>     <td></td>      <td></td>       <td></td>       <td></td>   \n",
       "</tr>\n",
       "</table>"
      ],
      "text/plain": [
       "<class 'statsmodels.iolib.summary2.Summary'>\n",
       "\"\"\"\n",
       "           Mixed Linear Model Regression Results\n",
       "===========================================================\n",
       "Model:               MixedLM  Dependent Variable:  accuracy\n",
       "No. Observations:    75       Method:              REML    \n",
       "No. Groups:          15       Scale:               0.0039  \n",
       "Min. group size:     5        Log-Likelihood:      95.7718 \n",
       "Max. group size:     5        Converged:           Yes     \n",
       "Mean group size:     5.0                                   \n",
       "-----------------------------------------------------------\n",
       "                 Coef.  Std.Err.   z    P>|z| [0.025 0.975]\n",
       "-----------------------------------------------------------\n",
       "Intercept         0.732    0.009 83.357 0.000  0.714  0.749\n",
       "group[T.network] -0.045    0.015 -2.970 0.003 -0.075 -0.015\n",
       "Group Var         0.000    0.006                           \n",
       "===========================================================\n",
       "\n",
       "\"\"\""
      ]
     },
     "execution_count": 23,
     "metadata": {},
     "output_type": "execute_result"
    }
   ],
   "source": [
    "sns.set(rc = {'figure.figsize':(15,8)})\n",
    "sns.set_style(\"whitegrid\", {'axes.grid': False})\n",
    "\n",
    "files1 = glob.glob(input_dir1 + 'lasso_accuracy_*.csv')\n",
    "files2 = glob.glob(input_dir2 + 'lasso_accuracy_*.csv')\n",
    "\n",
    "for f1, f2 in zip(files1, files2):\n",
    "    \n",
    "    accuracy1 = pd.read_csv(f1)\n",
    "    accuracy2 = pd.read_csv(f2)\n",
    "    title = re.search('(.*)_accuracy_(.*).csv', f1).group(2)\n",
    "    figure_name = 'accuracy_comparision_' + title + '.png'\n",
    "    \n",
    "    accuracy = pd.concat([accuracy1, accuracy2], axis = 0, keys = ['harmonic', 'network']).reset_index(level = 0)\n",
    "    \n",
    "    accuracy.rename(columns = {'Unnamed: 0': 'metric', 'level_0': 'group'}, inplace = True)\n",
    "    plot_data = pd.melt(accuracy, id_vars = ['metric', 'group'], value_name = 'accuracy')\n",
    "    \n",
    "    md = smf.mixedlm(\"accuracy ~ group\", plot_data, groups=plot_data[\"metric\"])\n",
    "    mdf = md.fit()\n",
    "    \n",
    "    sns.swarmplot(data = plot_data, x = 'metric', y = 'accuracy', hue = 'group')\n",
    "    plt.xticks(rotation = 45)\n",
    "    plt.title(title.replace('_', ' vs. '))\n",
    "    \n",
    "    plt.savefig(output_dir + figure_name)\n",
    "    plt.close()\n",
    "    \n",
    "    # break\n",
    "\n"
   ]
  },
  {
   "cell_type": "code",
   "execution_count": 24,
   "id": "bf7fa100-c5da-4f7c-863e-3309fe72734d",
   "metadata": {},
   "outputs": [
    {
     "data": {
      "text/html": [
       "<table class=\"simpletable\">\n",
       "<tr>\n",
       "       <td>Model:</td>       <td>MixedLM</td> <td>Dependent Variable:</td> <td>accuracy</td>\n",
       "</tr>\n",
       "<tr>\n",
       "  <td>No. Observations:</td>   <td>75</td>          <td>Method:</td>         <td>REML</td>  \n",
       "</tr>\n",
       "<tr>\n",
       "     <td>No. Groups:</td>      <td>15</td>          <td>Scale:</td>         <td>0.0039</td> \n",
       "</tr>\n",
       "<tr>\n",
       "  <td>Min. group size:</td>     <td>5</td>      <td>Log-Likelihood:</td>    <td>95.7718</td>\n",
       "</tr>\n",
       "<tr>\n",
       "  <td>Max. group size:</td>     <td>5</td>        <td>Converged:</td>         <td>Yes</td>  \n",
       "</tr>\n",
       "<tr>\n",
       "  <td>Mean group size:</td>    <td>5.0</td>            <td></td>               <td></td>    \n",
       "</tr>\n",
       "</table>\n",
       "<table class=\"simpletable\">\n",
       "<tr>\n",
       "          <td></td>          <th>Coef.</th> <th>Std.Err.</th>    <th>z</th>   <th>P>|z|</th> <th>[0.025</th> <th>0.975]</th>\n",
       "</tr>\n",
       "<tr>\n",
       "  <th>Intercept</th>         <td>0.732</td>   <td>0.009</td>  <td>83.357</td> <td>0.000</td>  <td>0.714</td>  <td>0.749</td>\n",
       "</tr>\n",
       "<tr>\n",
       "  <th>group[T.network]</th> <td>-0.045</td>   <td>0.015</td>  <td>-2.970</td> <td>0.003</td> <td>-0.075</td> <td>-0.015</td>\n",
       "</tr>\n",
       "<tr>\n",
       "  <th>Group Var</th>         <td>0.000</td>   <td>0.006</td>     <td></td>      <td></td>       <td></td>       <td></td>   \n",
       "</tr>\n",
       "</table>"
      ],
      "text/plain": [
       "<class 'statsmodels.iolib.summary2.Summary'>\n",
       "\"\"\"\n",
       "           Mixed Linear Model Regression Results\n",
       "===========================================================\n",
       "Model:               MixedLM  Dependent Variable:  accuracy\n",
       "No. Observations:    75       Method:              REML    \n",
       "No. Groups:          15       Scale:               0.0039  \n",
       "Min. group size:     5        Log-Likelihood:      95.7718 \n",
       "Max. group size:     5        Converged:           Yes     \n",
       "Mean group size:     5.0                                   \n",
       "-----------------------------------------------------------\n",
       "                 Coef.  Std.Err.   z    P>|z| [0.025 0.975]\n",
       "-----------------------------------------------------------\n",
       "Intercept         0.732    0.009 83.357 0.000  0.714  0.749\n",
       "group[T.network] -0.045    0.015 -2.970 0.003 -0.075 -0.015\n",
       "Group Var         0.000    0.006                           \n",
       "===========================================================\n",
       "\n",
       "\"\"\""
      ]
     },
     "execution_count": 24,
     "metadata": {},
     "output_type": "execute_result"
    }
   ],
   "source": [
    "mdf.summary()"
   ]
  }
 ],
 "metadata": {
  "kernelspec": {
   "display_name": "Python 3",
   "language": "python",
   "name": "python3"
  },
  "language_info": {
   "codemirror_mode": {
    "name": "ipython",
    "version": 3
   },
   "file_extension": ".py",
   "mimetype": "text/x-python",
   "name": "python",
   "nbconvert_exporter": "python",
   "pygments_lexer": "ipython3",
   "version": "3.8.12"
  }
 },
 "nbformat": 4,
 "nbformat_minor": 5
}
