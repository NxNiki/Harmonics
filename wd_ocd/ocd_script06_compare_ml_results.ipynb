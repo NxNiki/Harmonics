{
 "cells": [
  {
   "cell_type": "code",
   "execution_count": 12,
   "id": "faf1c8d5-844b-4164-8be3-7c78dff92d93",
   "metadata": {},
   "outputs": [],
   "source": [
    "## compare the prediction accuracy of lasso/or other machine learning results.\n",
    "\n",
    "import pandas as pd\n",
    "import os\n",
    "import re\n",
    "import numpy as np\n",
    "import glob\n",
    "from scipy import stats\n",
    "import seaborn as sns\n",
    "import matplotlib.pyplot as plt\n",
    "import statsmodels.formula.api as smf\n",
    "\n",
    "\n",
    "input_dir1 = 'ocd_out05_randomforest/'\n",
    "input_dir2 = 'ocd_out05_randomforest_network_metrics/'\n",
    "\n",
    "output_dir = 'ocd_out06_compare_rf_results/'\n",
    "\n",
    "if not os.path.exists(output_dir):\n",
    "    os.mkdir(output_dir)\n"
   ]
  },
  {
   "cell_type": "code",
   "execution_count": 13,
   "id": "9373795f-9a95-463e-b186-c542b9ea23c1",
   "metadata": {},
   "outputs": [
    {
     "name": "stderr",
     "output_type": "stream",
     "text": [
      "/home/xin/miniconda3/lib/python3.8/site-packages/statsmodels/regression/mixed_linear_model.py:2237: ConvergenceWarning: The MLE may be on the boundary of the parameter space.\n",
      "  warnings.warn(msg, ConvergenceWarning)\n"
     ]
    },
    {
     "name": "stdout",
     "output_type": "stream",
     "text": [
      "hc_ocd\n",
      "          Mixed Linear Model Regression Results\n",
      "==========================================================\n",
      "Model:              MixedLM  Dependent Variable:  accuracy\n",
      "No. Observations:   75       Method:              REML    \n",
      "No. Groups:         15       Scale:               0.0140  \n",
      "Min. group size:    5        Log-Likelihood:      48.7394 \n",
      "Max. group size:    5        Converged:           Yes     \n",
      "Mean group size:    5.0                                   \n",
      "----------------------------------------------------------\n",
      "                 Coef. Std.Err.   z    P>|z| [0.025 0.975]\n",
      "----------------------------------------------------------\n",
      "Intercept        0.556    0.017 33.279 0.000  0.523  0.589\n",
      "group[T.network] 0.116    0.029  4.015 0.000  0.060  0.173\n",
      "Group Var        0.000    0.010                           \n",
      "==========================================================\n",
      "\n"
     ]
    }
   ],
   "source": [
    "sns.set(rc = {'figure.figsize':(15,8)})\n",
    "sns.set_style(\"whitegrid\", {'axes.grid': False})\n",
    "\n",
    "files1 = glob.glob(input_dir1 + 'rf_accuracy_*.csv')\n",
    "files2 = glob.glob(input_dir2 + 'rf_accuracy_*.csv')\n",
    "\n",
    "for f1, f2 in zip(files1, files2):\n",
    "    \n",
    "    accuracy1 = pd.read_csv(f1)\n",
    "    accuracy2 = pd.read_csv(f2)\n",
    "    title = re.search('(.*)_accuracy_(.*).csv', f1).group(2)\n",
    "    figure_name = 'accuracy_comparision_' + title + '.png'\n",
    "    \n",
    "    accuracy = pd.concat([accuracy1, accuracy2], axis = 0, keys = ['harmonic', 'network']).reset_index(level = 0)\n",
    "    \n",
    "    accuracy.rename(columns = {'Unnamed: 0': 'metric', 'level_0': 'group'}, inplace = True)\n",
    "    plot_data = pd.melt(accuracy, id_vars = ['metric', 'group'], value_name = 'accuracy')\n",
    "    \n",
    "    md = smf.mixedlm(\"accuracy ~ group\", plot_data, groups=plot_data[\"metric\"])\n",
    "    mdf = md.fit()\n",
    "    print(title)\n",
    "    print(mdf.summary())\n",
    "    \n",
    "    sns.swarmplot(data = plot_data, x = 'metric', y = 'accuracy', hue = 'group')\n",
    "    plt.xticks(rotation = 45)\n",
    "    plt.title(title.replace('_', ' vs. '))\n",
    "    \n",
    "    plt.savefig(output_dir + figure_name)\n",
    "    plt.close()\n",
    "    \n",
    "    # break\n",
    "\n"
   ]
  },
  {
   "cell_type": "code",
   "execution_count": 14,
   "id": "bf7fa100-c5da-4f7c-863e-3309fe72734d",
   "metadata": {},
   "outputs": [
    {
     "data": {
      "text/html": [
       "<table class=\"simpletable\">\n",
       "<tr>\n",
       "       <td>Model:</td>       <td>MixedLM</td> <td>Dependent Variable:</td> <td>accuracy</td>\n",
       "</tr>\n",
       "<tr>\n",
       "  <td>No. Observations:</td>   <td>75</td>          <td>Method:</td>         <td>REML</td>  \n",
       "</tr>\n",
       "<tr>\n",
       "     <td>No. Groups:</td>      <td>15</td>          <td>Scale:</td>         <td>0.0140</td> \n",
       "</tr>\n",
       "<tr>\n",
       "  <td>Min. group size:</td>     <td>5</td>      <td>Log-Likelihood:</td>    <td>48.7394</td>\n",
       "</tr>\n",
       "<tr>\n",
       "  <td>Max. group size:</td>     <td>5</td>        <td>Converged:</td>         <td>Yes</td>  \n",
       "</tr>\n",
       "<tr>\n",
       "  <td>Mean group size:</td>    <td>5.0</td>            <td></td>               <td></td>    \n",
       "</tr>\n",
       "</table>\n",
       "<table class=\"simpletable\">\n",
       "<tr>\n",
       "          <td></td>         <th>Coef.</th> <th>Std.Err.</th>    <th>z</th>   <th>P>|z|</th> <th>[0.025</th> <th>0.975]</th>\n",
       "</tr>\n",
       "<tr>\n",
       "  <th>Intercept</th>        <td>0.556</td>   <td>0.017</td>  <td>33.279</td> <td>0.000</td>  <td>0.523</td>  <td>0.589</td>\n",
       "</tr>\n",
       "<tr>\n",
       "  <th>group[T.network]</th> <td>0.116</td>   <td>0.029</td>   <td>4.015</td> <td>0.000</td>  <td>0.060</td>  <td>0.173</td>\n",
       "</tr>\n",
       "<tr>\n",
       "  <th>Group Var</th>        <td>0.000</td>   <td>0.010</td>     <td></td>      <td></td>       <td></td>       <td></td>   \n",
       "</tr>\n",
       "</table>"
      ],
      "text/plain": [
       "<class 'statsmodels.iolib.summary2.Summary'>\n",
       "\"\"\"\n",
       "          Mixed Linear Model Regression Results\n",
       "==========================================================\n",
       "Model:              MixedLM  Dependent Variable:  accuracy\n",
       "No. Observations:   75       Method:              REML    \n",
       "No. Groups:         15       Scale:               0.0140  \n",
       "Min. group size:    5        Log-Likelihood:      48.7394 \n",
       "Max. group size:    5        Converged:           Yes     \n",
       "Mean group size:    5.0                                   \n",
       "----------------------------------------------------------\n",
       "                 Coef. Std.Err.   z    P>|z| [0.025 0.975]\n",
       "----------------------------------------------------------\n",
       "Intercept        0.556    0.017 33.279 0.000  0.523  0.589\n",
       "group[T.network] 0.116    0.029  4.015 0.000  0.060  0.173\n",
       "Group Var        0.000    0.010                           \n",
       "==========================================================\n",
       "\n",
       "\"\"\""
      ]
     },
     "execution_count": 14,
     "metadata": {},
     "output_type": "execute_result"
    }
   ],
   "source": [
    "mdf.summary()"
   ]
  },
  {
   "cell_type": "code",
   "execution_count": 11,
   "id": "24afe149-b06c-4eeb-8189-7c3964b2580d",
   "metadata": {},
   "outputs": [
    {
     "data": {
      "text/plain": [
       "[]"
      ]
     },
     "execution_count": 11,
     "metadata": {},
     "output_type": "execute_result"
    }
   ],
   "source": [
    "files2"
   ]
  }
 ],
 "metadata": {
  "kernelspec": {
   "display_name": "Python 3",
   "language": "python",
   "name": "python3"
  },
  "language_info": {
   "codemirror_mode": {
    "name": "ipython",
    "version": 3
   },
   "file_extension": ".py",
   "mimetype": "text/x-python",
   "name": "python",
   "nbconvert_exporter": "python",
   "pygments_lexer": "ipython3",
   "version": "3.8.12"
  }
 },
 "nbformat": 4,
 "nbformat_minor": 5
}
