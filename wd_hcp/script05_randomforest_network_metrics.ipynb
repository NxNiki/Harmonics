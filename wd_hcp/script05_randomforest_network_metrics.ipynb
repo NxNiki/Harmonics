{
 "cells": [
  {
   "cell_type": "code",
   "execution_count": 27,
   "id": "83c00cce-163b-4ac5-afec-4472c3e74981",
   "metadata": {
    "tags": []
   },
   "outputs": [],
   "source": [
    "## run LASSO on network metrics\n",
    "\n",
    "import pandas as pd\n",
    "import numpy as np\n",
    "import os\n",
    "import re\n",
    "import glob\n",
    "\n",
    "from sklearn.preprocessing import StandardScaler\n",
    "# from sklearn.linear_model import LogisticRegressionCV\n",
    "from sklearn.model_selection import cross_val_score\n",
    "\n",
    "from sklearn.ensemble import RandomForestClassifier\n",
    "from sklearn.inspection import permutation_importance\n",
    "from sklearn.model_selection import GridSearchCV\n",
    "\n",
    "input_dir  = 'hcp_out03_network_analysis_0back/'\n",
    "input_dir2 = 'hcp_out03_network_analysis_2back/'\n",
    "\n",
    "output_dir = 'hcp_out05_randomforest'\n",
    "cv_outer   = 5\n"
   ]
  },
  {
   "cell_type": "code",
   "execution_count": 28,
   "id": "18c3bd62-bc78-4f63-932c-01d76f0eedbe",
   "metadata": {
    "scrolled": true,
    "tags": []
   },
   "outputs": [
    {
     "name": "stdout",
     "output_type": "stream",
     "text": [
      "959\n",
      "959\n",
      "hcp_out03_network_analysis_0back/betweenness.csv\n",
      "hcp_out03_network_analysis_2back/betweenness.csv\n",
      "cross validaton result, mean 0.677789, std: 0.002655\n",
      "hcp_out03_network_analysis_0back/closeness.csv\n",
      "hcp_out03_network_analysis_2back/closeness.csv\n",
      "cross validaton result, mean 0.724180, std: 0.026628\n",
      "hcp_out03_network_analysis_0back/clustering.csv\n",
      "hcp_out03_network_analysis_2back/clustering.csv\n",
      "cross validaton result, mean 0.651741, std: 0.023105\n",
      "hcp_out03_network_analysis_0back/degree.csv\n",
      "hcp_out03_network_analysis_2back/degree.csv\n",
      "cross validaton result, mean 0.731481, std: 0.027032\n",
      "hcp_out03_network_analysis_0back/eigenvector.csv\n",
      "hcp_out03_network_analysis_2back/eigenvector.csv\n",
      "cross validaton result, mean 0.740346, std: 0.030662\n",
      "finished!\n"
     ]
    }
   ],
   "source": [
    "\n",
    "metrics = ['betweenness', 'clustering', 'degree', 'eigenvector', 'closeness']\n",
    "data_files = [input_dir + m + '.csv' for m in metrics]\n",
    "data_files.sort()\n",
    "\n",
    "metrics = ['betweenness', 'clustering', 'degree', 'eigenvector', 'closeness']\n",
    "data_files2 = [input_dir2 + m + '.csv' for m in metrics]\n",
    "data_files2.sort()\n",
    "\n",
    "all_result = []\n",
    "print_group_size = True\n",
    "result_accuracy = []\n",
    "result_coefs = []\n",
    "\n",
    "for f1,f2 in zip(data_files, data_files2):\n",
    "    \n",
    "    data = pd.read_csv(f1, index_col = 0)\n",
    "    data.drop(columns = 'subject_id', inplace = True)\n",
    "    data2= pd.read_csv(f2, index_col= 0)\n",
    "    data2.drop(columns = 'subject_id', inplace = True)\n",
    "    # break\n",
    "    num1 = data.shape[0]\n",
    "    num2 = data2.shape[0]\n",
    "    \n",
    "    if print_group_size:\n",
    "        \n",
    "        print(num1)\n",
    "        print(num2)\n",
    "        print_group_size = False\n",
    "    print(f1)\n",
    "    print(f2)\n",
    "    \n",
    "    X = pd.concat([data, data2], axis = 0).values\n",
    "    y = np.hstack((np.ones((num1)), np.zeros((num2))))\n",
    "    \n",
    "    scaler = StandardScaler()\n",
    "    scaler.fit(X)\n",
    "    X = scaler.transform(X)\n",
    "    C_values = np.logspace(-3, 3, 30)\n",
    "\n",
    "    ## random forest:\n",
    "    rfc = RandomForestClassifier(random_state=0)\n",
    "\n",
    "    # param_grid = { \n",
    "    #     'n_estimators': [50, 100],\n",
    "    #     'max_features': ['sqrt'],\n",
    "    #     'max_depth' : [2, 4],\n",
    "    #     'criterion' : ['gini']\n",
    "    # }\n",
    "\n",
    "    param_grid = { \n",
    "        'n_estimators': [20, 50, 100],\n",
    "        'max_features': ['sqrt', 'log2'],\n",
    "        'max_depth' : [2, 3, 4],\n",
    "        'criterion' : ['gini', 'entropy']\n",
    "    }\n",
    "\n",
    "    cv_model = GridSearchCV(estimator=rfc, param_grid=param_grid, cv= 5, n_jobs = 2)\n",
    "    ## run outer cv:\n",
    "    cv_result = cross_val_score(cv_model, X, y, cv = cv_outer)\n",
    "\n",
    "    print('cross validaton result, mean %3f, std: %3f' % (cv_result.mean(), cv_result.std()))\n",
    "    result_accuracy.append(cv_result)\n",
    "    cv_model.fit(X, y)\n",
    "\n",
    "    perm_importance = permutation_importance(cv_model, X, y)\n",
    "    result_coefs.append(perm_importance['importances_mean'])\n",
    "        \n",
    "    #     break\n",
    "    # break\n",
    "print('finished!')"
   ]
  },
  {
   "cell_type": "code",
   "execution_count": 29,
   "id": "af570e4b-2a9a-4ac6-b78c-3ebfa7692beb",
   "metadata": {},
   "outputs": [
    {
     "ename": "NameError",
     "evalue": "name 'comp' is not defined",
     "output_type": "error",
     "traceback": [
      "\u001b[0;31m---------------------------------------------------------------------------\u001b[0m",
      "\u001b[0;31mNameError\u001b[0m                                 Traceback (most recent call last)",
      "Input \u001b[0;32mIn [29]\u001b[0m, in \u001b[0;36m<cell line: 10>\u001b[0;34m()\u001b[0m\n\u001b[1;32m      7\u001b[0m res\u001b[38;5;241m.\u001b[39mcolumns \u001b[38;5;241m=\u001b[39m [\u001b[38;5;124m'\u001b[39m\u001b[38;5;124mcv\u001b[39m\u001b[38;5;124m'\u001b[39m \u001b[38;5;241m+\u001b[39m \u001b[38;5;28mstr\u001b[39m(i) \u001b[38;5;28;01mfor\u001b[39;00m i \u001b[38;5;129;01min\u001b[39;00m \u001b[38;5;28mrange\u001b[39m(\u001b[38;5;241m1\u001b[39m, \u001b[38;5;241m6\u001b[39m)]\n\u001b[1;32m      8\u001b[0m res\u001b[38;5;241m.\u001b[39mindex \u001b[38;5;241m=\u001b[39m metrics\n\u001b[0;32m---> 10\u001b[0m res\u001b[38;5;241m.\u001b[39mto_csv(output_dir \u001b[38;5;241m+\u001b[39m \u001b[38;5;124m'\u001b[39m\u001b[38;5;124m/rf_network_metrics_accuracy_\u001b[39m\u001b[38;5;124m'\u001b[39m \u001b[38;5;241m+\u001b[39m \u001b[43mcomp\u001b[49m[\u001b[38;5;241m0\u001b[39m] \u001b[38;5;241m+\u001b[39m \u001b[38;5;124m'\u001b[39m\u001b[38;5;124m_\u001b[39m\u001b[38;5;124m'\u001b[39m \u001b[38;5;241m+\u001b[39m comp[\u001b[38;5;241m1\u001b[39m] \u001b[38;5;241m+\u001b[39m \u001b[38;5;124m'\u001b[39m\u001b[38;5;124m.csv\u001b[39m\u001b[38;5;124m'\u001b[39m)\n\u001b[1;32m     12\u001b[0m res \u001b[38;5;241m=\u001b[39m pd\u001b[38;5;241m.\u001b[39mDataFrame(result_coefs)\n\u001b[1;32m     13\u001b[0m res\u001b[38;5;241m.\u001b[39mcolumns \u001b[38;5;241m=\u001b[39m [\u001b[38;5;124m'\u001b[39m\u001b[38;5;124mroi\u001b[39m\u001b[38;5;124m'\u001b[39m \u001b[38;5;241m+\u001b[39m \u001b[38;5;28mstr\u001b[39m(i) \u001b[38;5;28;01mfor\u001b[39;00m i \u001b[38;5;129;01min\u001b[39;00m \u001b[38;5;28mrange\u001b[39m(\u001b[38;5;241m1\u001b[39m, \u001b[38;5;241m269\u001b[39m)]\n",
      "\u001b[0;31mNameError\u001b[0m: name 'comp' is not defined"
     ]
    }
   ],
   "source": [
    "## save results:\n",
    "if not os.path.exists(output_dir):\n",
    "    os.mkdir(output_dir)\n",
    "\n",
    "\n",
    "res = pd.DataFrame(result_accuracy)\n",
    "res.columns = ['cv' + str(i) for i in range(1, 6)]\n",
    "res.index = metrics\n",
    "\n",
    "res.to_csv(output_dir + '/rf_network_metrics_accuracy_' + comp[0] + '_' + comp[1] + '.csv')\n",
    "\n",
    "res = pd.DataFrame(result_coefs)\n",
    "res.columns = ['roi' + str(i) for i in range(1, 269)]\n",
    "res.index = metrics\n",
    "res = res.transpose()\n",
    "\n",
    "res.to_csv(output_dir + '/rf_network_metrics_coefs_' + comp[0] + '_' + comp[1] + '.csv')\n"
   ]
  },
  {
   "cell_type": "code",
   "execution_count": null,
   "id": "1a376c7c-b839-454f-8747-1b442066713a",
   "metadata": {},
   "outputs": [],
   "source": [
    "result_accuracy"
   ]
  },
  {
   "cell_type": "code",
   "execution_count": null,
   "id": "07ea4fd0-6e85-4086-aa72-c90117fcaad8",
   "metadata": {},
   "outputs": [],
   "source": []
  },
  {
   "cell_type": "code",
   "execution_count": null,
   "id": "cba68e9f-4a1f-4338-a3de-3179a5da73e2",
   "metadata": {},
   "outputs": [],
   "source": []
  }
 ],
 "metadata": {
  "kernelspec": {
   "display_name": "Python 3",
   "language": "python",
   "name": "python3"
  },
  "language_info": {
   "codemirror_mode": {
    "name": "ipython",
    "version": 3
   },
   "file_extension": ".py",
   "mimetype": "text/x-python",
   "name": "python",
   "nbconvert_exporter": "python",
   "pygments_lexer": "ipython3",
   "version": "3.8.12"
  }
 },
 "nbformat": 4,
 "nbformat_minor": 5
}
