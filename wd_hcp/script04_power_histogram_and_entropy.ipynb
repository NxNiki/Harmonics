{
 "cells": [
  {
   "cell_type": "code",
   "execution_count": 46,
   "id": "ff353b5b-e219-41a6-939a-efa8f4d0bd25",
   "metadata": {},
   "outputs": [],
   "source": [
    "from math import log, e\n",
    "\n",
    "def entropy2(labels, base=None):\n",
    "    \"\"\" Computes entropy of label distribution. \"\"\"\n",
    "\n",
    "    n_labels = len(labels)\n",
    "\n",
    "    if n_labels <= 1:\n",
    "        return 0\n",
    "\n",
    "    value,counts = np.unique(labels, return_counts=True)\n",
    "    probs = counts / n_labels\n",
    "    n_classes = np.count_nonzero(probs)\n",
    "\n",
    "    if n_classes <= 1:\n",
    "        return 0\n",
    "\n",
    "    ent = 0.\n",
    "\n",
    "    # Compute entropy\n",
    "    base = e if base is None else base\n",
    "    for i in probs:\n",
    "        ent -= i * log(i, base)\n",
    "\n",
    "    return ent\n",
    "\n"
   ]
  },
  {
   "cell_type": "code",
   "execution_count": 47,
   "id": "977610d8-6375-4bc7-b5b9-b96eff0fb941",
   "metadata": {},
   "outputs": [],
   "source": [
    "## input: sepectrum P: time points by frequency\n",
    "## output: entropy (calculate on the distribution across time points) for each frequency.\n",
    "\n",
    "## plot histogram across time points, compute entropy, \n",
    "## and plot histogram of entropy across subjects.\n",
    "## xin Apr 11 2022.\n",
    "\n",
    "import glob\n",
    "import pandas as pd\n",
    "import numpy as np\n",
    "import re\n",
    "import os\n",
    "import matplotlib.pyplot as plt\n",
    "\n",
    "## as we have more than 2 million files in total (subjects * task * roi), \n",
    "## split results of different tasks in separate folders.\n",
    "\n",
    "# task_label = ['2back_body', '0back_face', '2back_tools', '0back_body', \n",
    "#               '0back_place', '2back_face', '0back_tools', '2back_place']\n",
    "\n",
    "task_label = ['0back', '0back']\n",
    "outfile_name_header = '/out04_entropy_'\n",
    "    \n",
    "num_roi = 268\n",
    "num_freq = 10"
   ]
  },
  {
   "cell_type": "code",
   "execution_count": 48,
   "id": "76b930ae-1049-43d9-806e-08080d80a79f",
   "metadata": {
    "scrolled": true,
    "tags": []
   },
   "outputs": [],
   "source": [
    "\n",
    "# spectrum_files = glob.glob(input_dir + '/spectrum_' + task_label[0] + '*_roi_*.csv')\n",
    "# spectrum_files.sort()\n",
    "\n",
    "# num_subj = len(spectrum_files)/num_roi\n",
    "# num_subj\n"
   ]
  },
  {
   "cell_type": "code",
   "execution_count": null,
   "id": "6411cb4a-0ab6-404e-bad7-adc9dcd13412",
   "metadata": {
    "scrolled": true,
    "tags": []
   },
   "outputs": [
    {
     "name": "stdout",
     "output_type": "stream",
     "text": [
      "0back\n",
      "0\n"
     ]
    }
   ],
   "source": [
    "\n",
    "for task in task_label:\n",
    "    \n",
    "    print(task)\n",
    "    input_dir = 'hcp_out03_spectrum_power_' + task \n",
    "    output_dir = 'hcp_out04_power_histogram_and_entropy_' + task\n",
    "    \n",
    "    spectrum_files = glob.glob(input_dir + '/spectrum_*_roi_*.csv')\n",
    "    spectrum_files.sort()\n",
    "    \n",
    "    # process a subset for testing:\n",
    "    # spectrum_files = spectrum_files[: int(num_subj)//200*num_roi]\n",
    "    \n",
    "    if not os.path.isdir(output_dir):\n",
    "        os.mkdir(output_dir)\n",
    "    \n",
    "    for col in range(num_freq):   \n",
    "        print(col)\n",
    "\n",
    "        result_subj = []\n",
    "        result_roi = []\n",
    "\n",
    "        for file in spectrum_files:\n",
    "            ## each file is a matrix (subjects by brain region)\n",
    "            ## the values are inner product of harmonics and time course signal.\n",
    "            \n",
    "            subj_id = re.search('(.*)spectrum_(.*)_roi_(.*).csv', file).group(2)\n",
    "            roi = re.search('(.*)spectrum_(.*)_roi_(.*).csv', file).group(3)\n",
    "\n",
    "            spectrum = pd.read_csv(file, header = None, sep = ',')\n",
    "            if spectrum[col].isna().any():\n",
    "\n",
    "                print('nan column found for: ', col)\n",
    "                #spectrum[col][spectrum[col].isna()] = 0\n",
    "                nan_col.append(col)\n",
    "                result_roi.append(np.nan)\n",
    "            else:\n",
    "                # compute entropy:\n",
    "                bins = np.linspace(min(spectrum[col]), max(spectrum[col]), num = 50)\n",
    "                discretized_signal = np.digitize(spectrum[col], bins)\n",
    "                entropy = entropy2(discretized_signal)\n",
    "                result_roi.append(entropy)\n",
    "\n",
    "            if int(roi) == num_roi:\n",
    "                result_subj.append(result_roi)\n",
    "                result_roi = []\n",
    "\n",
    "            # histogram:\n",
    "            ## plot figure on every n frequency, subject and brain region :\n",
    "            if col % 3 == 0 and int(subj_id) % 200 == 0 and int(roi) % 50 == 0:\n",
    "                plt.hist(spectrum[col], bins = 30)\n",
    "                figure_name = file.replace('.csv', '_' + task + '_freq_{:03}'.format(col) + '.png')\n",
    "                figure_name = figure_name.replace(input_dir, output_dir)\n",
    "                plt.savefig(figure_name)\n",
    "                plt.clf()\n",
    "\n",
    "        out_file_name = output_dir + outfile_name_header + '_freq_{:02}'.format(int(col)) + '.csv'\n",
    "        np.savetxt(out_file_name, np.array(result_subj), delimiter = ',')\n",
    "    \n",
    "print('finished!')"
   ]
  },
  {
   "cell_type": "code",
   "execution_count": null,
   "id": "38399ce8-8f67-4207-bc0c-b1e5fdf1666c",
   "metadata": {},
   "outputs": [],
   "source": [
    "len(spectrum_files)"
   ]
  },
  {
   "cell_type": "code",
   "execution_count": null,
   "id": "00ee29d6-9e64-4684-ac6e-e7a97af9213b",
   "metadata": {},
   "outputs": [],
   "source": []
  },
  {
   "cell_type": "code",
   "execution_count": null,
   "id": "b081b3f4-470b-4850-bb9c-b26766d8ac39",
   "metadata": {},
   "outputs": [],
   "source": []
  }
 ],
 "metadata": {
  "kernelspec": {
   "display_name": "Python 3",
   "language": "python",
   "name": "python3"
  },
  "language_info": {
   "codemirror_mode": {
    "name": "ipython",
    "version": 3
   },
   "file_extension": ".py",
   "mimetype": "text/x-python",
   "name": "python",
   "nbconvert_exporter": "python",
   "pygments_lexer": "ipython3",
   "version": "3.8.12"
  }
 },
 "nbformat": 4,
 "nbformat_minor": 5
}
